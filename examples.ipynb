{
 "cells": [
  {
   "cell_type": "markdown",
   "id": "dd6cfb21-dff4-4ab7-8a6d-67f0201ea451",
   "metadata": {},
   "source": [
    "# AnyChunker\n",
    "\n",
    "split any text for LLM or RAG or Agent."
   ]
  },
  {
   "cell_type": "markdown",
   "id": "cc6e3aa1-6bab-4d89-ada6-387d457039f0",
   "metadata": {},
   "source": [
    "## 1. recursive split text "
   ]
  },
  {
   "cell_type": "code",
   "execution_count": 1,
   "id": "5e32c15c-4835-4224-9ffd-1e62ddcdaf59",
   "metadata": {},
   "outputs": [],
   "source": [
    "from anychunker.text import AnyTextChunker\n",
    "\n",
    "text = \"\"\"\n",
    "# 1111\n",
    "## 1111.22\n",
    "dsdsdsds\n",
    "\n",
    "## 1.4 dsdsdd\n",
    "dajajfsdfds\n",
    "###### dsdsdsd\n",
    "\"\"\""
   ]
  },
  {
   "cell_type": "markdown",
   "id": "85779a40-886a-42e0-b7f7-2bafadb86b8b",
   "metadata": {},
   "source": [
    "### by regex split"
   ]
  },
  {
   "cell_type": "code",
   "execution_count": 7,
   "id": "38ff960d-9696-4705-89be-f7ff7e65ca7e",
   "metadata": {},
   "outputs": [
    {
     "data": {
      "text/plain": [
       "Document(metadata=DocumentMetadata(created=datetime.datetime(2025, 7, 22, 15, 1, 59, 827280), name='default', topic='default', tag='default', length=70), chunks=[Chunker(metadata={}, chunk_id=0, chunk_size=26, start_pos=1, end_pos=27, content='# 1111\\n## 1111.22\\ndsdsdsds'), Chunker(metadata={}, chunk_id=1, chunk_size=40, start_pos=29, end_pos=69, content='## 1.4 dsdsdd\\ndajajfsdfds\\n###### dsdsdsd')])"
      ]
     },
     "execution_count": 7,
     "metadata": {},
     "output_type": "execute_result"
    }
   ],
   "source": [
    "## by regex split\n",
    "\n",
    "model1 = AnyTextChunker(chunk_size = 50, chunk_overlap = 0)\n",
    "model1.invoke(text)"
   ]
  },
  {
   "cell_type": "markdown",
   "id": "fc40a07c-24bb-4af3-84f9-6fc0fad53207",
   "metadata": {},
   "source": [
    "### auto batch doc"
   ]
  },
  {
   "cell_type": "code",
   "execution_count": 8,
   "id": "80baba84-82d6-4337-ba68-fec9147f9f1c",
   "metadata": {},
   "outputs": [
    {
     "name": "stdout",
     "output_type": "stream",
     "text": [
      "ChunkBatcher(batch_index=0, batch_size=1, chunks=[Chunker(metadata={}, chunk_id=0, chunk_size=26, start_pos=1, end_pos=27, content='# 1111\\n## 1111.22\\ndsdsdsds')], metadata=DocumentMetadata(created=datetime.datetime(2025, 7, 22, 15, 2, 2, 861414), name='default', topic='default', tag='default', length=70), actual_size=1, total_content_length=26, start_chunk_id=0, end_chunk_id=0) \n",
      "\n",
      "\n",
      "ChunkBatcher(batch_index=1, batch_size=1, chunks=[Chunker(metadata={}, chunk_id=1, chunk_size=40, start_pos=29, end_pos=69, content='## 1.4 dsdsdd\\ndajajfsdfds\\n###### dsdsdsd')], metadata=DocumentMetadata(created=datetime.datetime(2025, 7, 22, 15, 2, 2, 861414), name='default', topic='default', tag='default', length=70), actual_size=1, total_content_length=40, start_chunk_id=1, end_chunk_id=1) \n",
      "\n",
      "\n"
     ]
    }
   ],
   "source": [
    "for x in model1.invoke(text).batchIterator(batch_size = 1):\n",
    "    print(x,'\\n\\n')"
   ]
  },
  {
   "cell_type": "markdown",
   "id": "07f1be4a-7aeb-4dbd-ab39-2850ce8b3c8c",
   "metadata": {},
   "source": [
    "### by transformer tokenizer"
   ]
  },
  {
   "cell_type": "code",
   "execution_count": 3,
   "id": "2ada8cb5-84ed-4f68-801c-9b7be4e6f821",
   "metadata": {},
   "outputs": [
    {
     "data": {
      "text/plain": [
       "Document(metadata=DocumentMetadata(created=datetime.datetime(2025, 7, 22, 14, 57, 45, 431157), name='default', topic='default', tag='default', length=45), chunks=[Chunker(metadata={}, chunk_id=0, chunk_size=43, start_pos=1, end_pos=44, content='# 1111\\n## 1111.22\\ndsdsdsds\\n\\n## 1.4 dsdsdd\\ndajajfsdfds\\n###### dsdsdsd')])"
      ]
     },
     "execution_count": 3,
     "metadata": {},
     "output_type": "execute_result"
    }
   ],
   "source": [
    "## by transformer tokenizer\n",
    "model2 = AnyTextChunker.from_tokenizer(\"Qwen/Qwen3-8B\",chunk_size = 50, chunk_overlap = 0)\n",
    "model2.invoke(text)"
   ]
  },
  {
   "cell_type": "markdown",
   "id": "4a89c9e3-c2d2-4156-8156-9c235980ae8b",
   "metadata": {},
   "source": [
    "### by language"
   ]
  },
  {
   "cell_type": "code",
   "execution_count": 4,
   "id": "9c4c2484-4bf7-4b7c-aa99-db1077dbf24e",
   "metadata": {},
   "outputs": [
    {
     "data": {
      "text/plain": [
       "Document(metadata=DocumentMetadata(created=datetime.datetime(2025, 7, 22, 14, 59, 4, 222919), name='default', topic='default', tag='default', length=70), chunks=[Chunker(metadata={}, chunk_id=0, chunk_size=26, start_pos=1, end_pos=27, content='# 1111\\n## 1111.22\\ndsdsdsds'), Chunker(metadata={}, chunk_id=1, chunk_size=40, start_pos=29, end_pos=69, content='## 1.4 dsdsdd\\ndajajfsdfds\\n###### dsdsdsd')])"
      ]
     },
     "execution_count": 4,
     "metadata": {},
     "output_type": "execute_result"
    }
   ],
   "source": [
    "## by language\n",
    "from anychunker.base import Language\n",
    "\n",
    "model3 = AnyTextChunker.from_language(Language.MARKDOWN,chunk_size = 50, chunk_overlap = 0)\n",
    "model3.invoke(text)"
   ]
  },
  {
   "cell_type": "markdown",
   "id": "f243c4ce-86bb-49f6-8456-093899a1b973",
   "metadata": {},
   "source": [
    "## 2. super markdown header split"
   ]
  },
  {
   "cell_type": "code",
   "execution_count": 9,
   "id": "0d66a3af-25cc-492b-9d16-f965e6801208",
   "metadata": {},
   "outputs": [
    {
     "data": {
      "text/plain": [
       "Document(metadata=DocumentMetadata(created=datetime.datetime(2025, 7, 22, 15, 2, 55, 76103), name='default', topic='default', tag='default', length=70), chunks=[Chunker(metadata={'header1': '1111', 'Header2': '1111.22'}, chunk_id=0, chunk_size=8, start_pos=19, end_pos=27, content='dsdsdsds'), Chunker(metadata={'header1': '1111', 'Header2': '1.4 dsdsdd'}, chunk_id=1, chunk_size=26, start_pos=43, end_pos=69, content='dajajfsdfds\\n###### dsdsdsd')])"
      ]
     },
     "execution_count": 9,
     "metadata": {},
     "output_type": "execute_result"
    }
   ],
   "source": [
    "from anychunker.markdown import AnyMarkdownChunker\n",
    "\n",
    "text = \"\"\"\n",
    "# 1111\n",
    "## 1111.22\n",
    "dsdsdsds\n",
    "\n",
    "## 1.4 dsdsdd\n",
    "dajajfsdfds\n",
    "###### dsdsdsd\n",
    "\"\"\"\n",
    "model4 = AnyMarkdownChunker([('#','header1'),('##','Header2')])\n",
    "model4.invoke(text)"
   ]
  },
  {
   "cell_type": "markdown",
   "id": "4d705eda-a913-4e5b-8636-148596966a9e",
   "metadata": {},
   "source": [
    "## 3. Semantics text split"
   ]
  },
  {
   "cell_type": "code",
   "execution_count": 2,
   "id": "e3f4e756-0456-4429-85fd-82a6659c4ba0",
   "metadata": {},
   "outputs": [
    {
     "data": {
      "text/plain": [
       "Document(metadata=DocumentMetadata(created=datetime.datetime(2025, 7, 22, 16, 9, 12, 397166), name='default', topic='default', tag='default', length=72), chunks=[Chunker(metadata={}, chunk_id=0, chunk_size=17, start_pos=1, end_pos=18, content='# 1111\\n## 1111.22'), Chunker(metadata={}, chunk_id=1, chunk_size=51, start_pos=-1, end_pos=50, content='dsdsdsds.\\n## 1.4 dsdsdd\\ndajajfsdfds.\\n###### dsdsdsd')])"
      ]
     },
     "execution_count": 2,
     "metadata": {},
     "output_type": "execute_result"
    }
   ],
   "source": [
    "from anychunker.semantics import AnySemanticsChunker\n",
    "from sentence_transformers import SentenceTransformer\n",
    "\n",
    "# Load the model\n",
    "model_dir = \"Qwen/Qwen3-Embedding-0.6B\"\n",
    "model_dir = '/Users/qianliy/.cache/modelscope/hub/models/Qwen/Qwen3-Embedding-0___6B'\n",
    "model = SentenceTransformer(model_dir)\n",
    "\n",
    "def emb_model(sentences):\n",
    "    return model.encode(sentences).tolist()\n",
    "\n",
    "\n",
    "model5 = AnySemanticsChunker(embedding_model = emb_model)\n",
    "\n",
    "text = \"\"\"\n",
    "# 1111\n",
    "## 1111.22\n",
    "dsdsdsds.\n",
    "\n",
    "## 1.4 dsdsdd\n",
    "dajajfsdfds.\n",
    "###### dsdsdsd\n",
    "\"\"\"\n",
    "\n",
    "model5.invoke(text)"
   ]
  },
  {
   "cell_type": "code",
   "execution_count": 3,
   "id": "fa13fc98-4c71-458a-99a6-0deff01b6b56",
   "metadata": {},
   "outputs": [
    {
     "data": {
      "text/plain": [
       "['Config',\n",
       " '__abstractmethods__',\n",
       " '__annotations__',\n",
       " '__class__',\n",
       " '__class_getitem__',\n",
       " '__class_vars__',\n",
       " '__contains__',\n",
       " '__copy__',\n",
       " '__deepcopy__',\n",
       " '__delattr__',\n",
       " '__delitem__',\n",
       " '__dict__',\n",
       " '__dir__',\n",
       " '__doc__',\n",
       " '__eq__',\n",
       " '__fields__',\n",
       " '__fields_set__',\n",
       " '__format__',\n",
       " '__ge__',\n",
       " '__get_pydantic_core_schema__',\n",
       " '__get_pydantic_json_schema__',\n",
       " '__getattr__',\n",
       " '__getattribute__',\n",
       " '__getitem__',\n",
       " '__getstate__',\n",
       " '__gt__',\n",
       " '__hash__',\n",
       " '__init__',\n",
       " '__init_subclass__',\n",
       " '__iter__',\n",
       " '__le__',\n",
       " '__len__',\n",
       " '__lt__',\n",
       " '__module__',\n",
       " '__ne__',\n",
       " '__new__',\n",
       " '__pretty__',\n",
       " '__private_attributes__',\n",
       " '__pydantic_complete__',\n",
       " '__pydantic_computed_fields__',\n",
       " '__pydantic_core_schema__',\n",
       " '__pydantic_custom_init__',\n",
       " '__pydantic_decorators__',\n",
       " '__pydantic_extra__',\n",
       " '__pydantic_fields__',\n",
       " '__pydantic_fields_set__',\n",
       " '__pydantic_generic_metadata__',\n",
       " '__pydantic_init_subclass__',\n",
       " '__pydantic_parent_namespace__',\n",
       " '__pydantic_post_init__',\n",
       " '__pydantic_private__',\n",
       " '__pydantic_root_model__',\n",
       " '__pydantic_serializer__',\n",
       " '__pydantic_setattr_handlers__',\n",
       " '__pydantic_validator__',\n",
       " '__reduce__',\n",
       " '__reduce_ex__',\n",
       " '__replace__',\n",
       " '__repr__',\n",
       " '__repr_args__',\n",
       " '__repr_name__',\n",
       " '__repr_recursion__',\n",
       " '__repr_str__',\n",
       " '__rich_repr__',\n",
       " '__setattr__',\n",
       " '__setitem__',\n",
       " '__setstate__',\n",
       " '__signature__',\n",
       " '__sizeof__',\n",
       " '__slots__',\n",
       " '__str__',\n",
       " '__subclasshook__',\n",
       " '__weakref__',\n",
       " '_abc_impl',\n",
       " '_calculate_keys',\n",
       " '_copy_and_set_values',\n",
       " '_get_value',\n",
       " '_is_hashable',\n",
       " '_iter',\n",
       " '_setattr_handler',\n",
       " 'add_chunk',\n",
       " 'add_chunks',\n",
       " 'batchIterator',\n",
       " 'chunks',\n",
       " 'clear',\n",
       " 'construct',\n",
       " 'copy',\n",
       " 'dict',\n",
       " 'equals',\n",
       " 'from_orm',\n",
       " 'get',\n",
       " 'items',\n",
       " 'json',\n",
       " 'keys',\n",
       " 'load_from_dict',\n",
       " 'load_from_json',\n",
       " 'metadata',\n",
       " 'model_computed_fields',\n",
       " 'model_config',\n",
       " 'model_construct',\n",
       " 'model_copy',\n",
       " 'model_dump',\n",
       " 'model_dump_json',\n",
       " 'model_extra',\n",
       " 'model_fields',\n",
       " 'model_fields_set',\n",
       " 'model_json_schema',\n",
       " 'model_parametrized_name',\n",
       " 'model_post_init',\n",
       " 'model_rebuild',\n",
       " 'model_validate',\n",
       " 'model_validate_json',\n",
       " 'model_validate_strings',\n",
       " 'parse_file',\n",
       " 'parse_obj',\n",
       " 'parse_raw',\n",
       " 'pop',\n",
       " 'save_json',\n",
       " 'schema',\n",
       " 'schema_json',\n",
       " 'setdefault',\n",
       " 'to_dict',\n",
       " 'to_json',\n",
       " 'update',\n",
       " 'update_forward_refs',\n",
       " 'validate',\n",
       " 'values']"
      ]
     },
     "execution_count": 3,
     "metadata": {},
     "output_type": "execute_result"
    }
   ],
   "source": [
    "# see all functions\n",
    "\n",
    "docs = model5.invoke(text)\n",
    "\n",
    "dir(docs)"
   ]
  },
  {
   "cell_type": "code",
   "execution_count": null,
   "id": "9c613208",
   "metadata": {},
   "outputs": [],
   "source": []
  }
 ],
 "metadata": {
  "kernelspec": {
   "display_name": "base",
   "language": "python",
   "name": "python3"
  },
  "language_info": {
   "codemirror_mode": {
    "name": "ipython",
    "version": 3
   },
   "file_extension": ".py",
   "mimetype": "text/x-python",
   "name": "python",
   "nbconvert_exporter": "python",
   "pygments_lexer": "ipython3",
   "version": "3.12.10"
  }
 },
 "nbformat": 4,
 "nbformat_minor": 5
}
